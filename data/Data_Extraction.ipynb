{
 "cells": [
  {
   "cell_type": "code",
   "execution_count": 1,
   "metadata": {},
   "outputs": [
    {
     "data": {
      "text/plain": [
       "'\\nData will be extracted from https://sunrise-sunset.org/ Restful API. It returns multiple key positions of \\nthe sun based on a given location and date, all time data is returned in UTC time.\\n'"
      ]
     },
     "execution_count": 1,
     "metadata": {},
     "output_type": "execute_result"
    }
   ],
   "source": [
    "'''\n",
    "Data will be extracted from https://sunrise-sunset.org/ Restful API. It returns multiple key positions of \n",
    "the sun based on a given location and date, all time data is returned in UTC time.\n",
    "'''"
   ]
  },
  {
   "cell_type": "code",
   "execution_count": 2,
   "metadata": {},
   "outputs": [],
   "source": [
    "import pandas as pd\n",
    "import requests\n",
    "import json\n",
    "import time\n",
    "from pandas.io.json import json_normalize\n",
    "from datetime import date,datetime, timedelta"
   ]
  },
  {
   "cell_type": "code",
   "execution_count": 3,
   "metadata": {},
   "outputs": [
    {
     "data": {
      "text/html": [
       "<div>\n",
       "<style scoped>\n",
       "    .dataframe tbody tr th:only-of-type {\n",
       "        vertical-align: middle;\n",
       "    }\n",
       "\n",
       "    .dataframe tbody tr th {\n",
       "        vertical-align: top;\n",
       "    }\n",
       "\n",
       "    .dataframe thead th {\n",
       "        text-align: right;\n",
       "    }\n",
       "</style>\n",
       "<table border=\"1\" class=\"dataframe\">\n",
       "  <thead>\n",
       "    <tr style=\"text-align: right;\">\n",
       "      <th></th>\n",
       "      <th>city</th>\n",
       "      <th>country</th>\n",
       "      <th>lat</th>\n",
       "      <th>lng</th>\n",
       "    </tr>\n",
       "  </thead>\n",
       "  <tbody>\n",
       "    <tr>\n",
       "      <th>0</th>\n",
       "      <td>Tokyo</td>\n",
       "      <td>Japan</td>\n",
       "      <td>35.4</td>\n",
       "      <td>139.45</td>\n",
       "    </tr>\n",
       "  </tbody>\n",
       "</table>\n",
       "</div>"
      ],
      "text/plain": [
       "    city  country   lat     lng\n",
       "0  Tokyo    Japan  35.4  139.45"
      ]
     },
     "execution_count": 3,
     "metadata": {},
     "output_type": "execute_result"
    }
   ],
   "source": [
    "# load cities location from csv file\n",
    "\n",
    "cities_locations = pd.read_csv('cities_lat_lng.csv') \n",
    "cities_locations.head()"
   ]
  },
  {
   "cell_type": "code",
   "execution_count": 58,
   "metadata": {},
   "outputs": [],
   "source": [
    "class Sunrise_sunset_data_extractor():\n",
    "    \"\"\"\n",
    "        This class knows how to obtain data from sunrise_sunset_org and returns a json object with the loaded data.\n",
    "        It requires a csv input file with data of the cities locations you want to get data from.\n",
    "        \n",
    "        use get_sunrise_sunset_json() method to get latest obtained data.\n",
    "        run construct_sunrise_sunset_json() to update load data.\n",
    "        \n",
    "        format of output object: \n",
    "        {'date':\n",
    "            'sunrise_sunset_data':[\n",
    "                {'location':{'country': ,'city': ,'lat': ,'lng': }\n",
    "                'sunrise_sunset_times':{}},\n",
    "\n",
    "                {'location':{'country': ,'city': ,'lat': ,'lng': }\n",
    "                'sunrise_sunset_times':{}}]}\n",
    "    \"\"\"\n",
    "    def __init__(self, location_csv_path, dates_range):\n",
    "        self.location_csv_path = location_csv_path\n",
    "        self.dates_range = dates_range\n",
    "        self.locations_df = self.get_locations_df()\n",
    "     #   self.construct_sunrise_sunset_json()\n",
    "    \n",
    "    def get_locations_df(self):\n",
    "        # returns load data of locations csv file in df.\n",
    "        return pd.read_csv(self.location_csv_path)\n",
    "\n",
    "    def get_sunrise_sunset_json(self):\n",
    "        return self.sunrise_sunset_json\n",
    "    \n",
    "    def construct_sunrise_sunset_json(self):\n",
    "        self.sunrise_sunset_json = {}\n",
    "        # iterates through the given dates, obtaining for each the set of locations from the locations csv file.\n",
    "        for date in self.dates_range:\n",
    "            all_loc_times_data_for_date = []\n",
    "            for index, row in sunrise_sunset_data_extractor.locations_df.iterrows():\n",
    "                \n",
    "                # we add a delay time to not stress restful api from sunrise-sunset-org. 10 seconds\n",
    "                time.sleep(10)\n",
    "                print(\"debug: starting request to sunrise-sunset-org restful api.\")\n",
    "\n",
    "                loc_data_obj = self.get_location_obj(row)\n",
    "                sunrise_sunset_data_obj = sunrise_sunset_data_extractor.get_sunrise_sunset_data(row, date)\n",
    "                loc_times_data_obj = {'location': loc_data_obj, 'sunrise_sunset_times': sunrise_sunset_data_obj['results']}\n",
    "                all_loc_times_data_for_date.append(loc_times_data_obj)\n",
    "            self.sunrise_sunset_json[date.strftime('%Y-%m-%d')] = all_loc_times_data_for_date\n",
    "            \n",
    "        \n",
    "    def get_sunrise_sunset_data(self, city_location_row, date):\n",
    "        # define data extraction method\n",
    "        try:\n",
    "            date_str = date.strftime('%Y-%m-%d')\n",
    "            url_template = 'https://api.sunrise-sunset.org/json?lat={lat}&lng={lng}&date={date}'\n",
    "\n",
    "            url = url_template.format(\n",
    "                lat = city_location_row[2],\n",
    "                lng = city_location_row[3],\n",
    "                date = date_str\n",
    "            )\n",
    "\n",
    "\n",
    "            response = (requests.get(url).text)\n",
    "            response_json = json.loads(response)\n",
    "            time.sleep(0.5)\n",
    "            return response_json\n",
    "\n",
    "        except Exception as e:\n",
    "            raise e    \n",
    "    \n",
    "    def get_location_obj(self, city_location_row):\n",
    "        obj = {}\n",
    "        obj['city'] = city_location_row[0]\n",
    "        obj['country'] =  city_location_row[1]\n",
    "        obj['lat'] =  city_location_row[2]\n",
    "        obj['lng'] = city_location_row[3]\n",
    "\n",
    "        return obj\n",
    "        "
   ]
  },
  {
   "cell_type": "code",
   "execution_count": 50,
   "metadata": {},
   "outputs": [],
   "source": [
    "def create_dates_range(start_date, end_date, days_interval):\n",
    "    \"\"\"\n",
    "        Returns a range of dates from the given start_date to the end_date, increasing by a constant day interval.\n",
    "        \n",
    "        usage example:\n",
    "        start_date= datetime.strptime('2018-01-01', '%Y-%m-%d')\n",
    "        end_date= datetime.strptime('2018-12-31', '%Y-%m-%d')\n",
    "\n",
    "        create_dates_range(start_date, end_date, 14)\n",
    "    \"\"\"\n",
    "    if (start_date > end_date):\n",
    "        raise Exception(\"Cannot create date range because start_date > end_date.\")  \n",
    "    \n",
    "    add_date =  start_date\n",
    "    datelist = []\n",
    "    \n",
    "    while (add_date < end_date):\n",
    "        datelist.append(add_date)\n",
    "        add_date = add_date + timedelta(days= days_interval)\n",
    "        \n",
    "    return datelist\n"
   ]
  },
  {
   "cell_type": "code",
   "execution_count": 51,
   "metadata": {},
   "outputs": [],
   "source": [
    "start_date= datetime.strptime('2018-01-01', '%Y-%m-%d')\n",
    "end_date= datetime.strptime('2018-01-15', '%Y-%m-%d')\n",
    "\n",
    "dates_range = create_dates_range(start_date, end_date, 14)\n",
    "\n",
    "sunrise_sunset_data_extractor = Sunrise_sunset_data_extractor('cities_lat_lng.csv',dates_range)"
   ]
  },
  {
   "cell_type": "code",
   "execution_count": 52,
   "metadata": {},
   "outputs": [
    {
     "name": "stdout",
     "output_type": "stream",
     "text": [
      "debug: starting request to sunrise-sunset-org restful api.\n"
     ]
    }
   ],
   "source": [
    "sunrise_sunset_data_extractor.construct_sunrise_sunset_json()"
   ]
  },
  {
   "cell_type": "code",
   "execution_count": 54,
   "metadata": {},
   "outputs": [
    {
     "data": {
      "text/plain": [
       "{'2018-01-01': [{'location': {'country': 'Tokyo',\n",
       "    'city': ' Japan',\n",
       "    'lat': 35.4,\n",
       "    'lng': 139.45},\n",
       "   'sunrise_sunset_times': {'sunrise': '9:51:10 PM',\n",
       "    'sunset': '7:40:27 AM',\n",
       "    'solar_noon': '2:45:48 AM',\n",
       "    'day_length': '09:49:17',\n",
       "    'civil_twilight_begin': '9:23:05 PM',\n",
       "    'civil_twilight_end': '8:08:32 AM',\n",
       "    'nautical_twilight_begin': '8:51:21 PM',\n",
       "    'nautical_twilight_end': '8:40:16 AM',\n",
       "    'astronomical_twilight_begin': '8:20:25 PM',\n",
       "    'astronomical_twilight_end': '9:11:11 AM'}}]}"
      ]
     },
     "execution_count": 54,
     "metadata": {},
     "output_type": "execute_result"
    }
   ],
   "source": [
    "sunrise_sunset_data_extractor.get_sunrise_sunset_json()"
   ]
  },
  {
   "cell_type": "code",
   "execution_count": 57,
   "metadata": {},
   "outputs": [],
   "source": [
    "with open('sunrise_sunset_times_data.json', 'w') as outfile:  \n",
    "    json.dump(sunrise_sunset_data_extractor.get_sunrise_sunset_json(), outfile)"
   ]
  },
  {
   "cell_type": "code",
   "execution_count": null,
   "metadata": {},
   "outputs": [],
   "source": []
  }
 ],
 "metadata": {
  "kernelspec": {
   "display_name": "Python 3",
   "language": "python",
   "name": "python3"
  },
  "language_info": {
   "codemirror_mode": {
    "name": "ipython",
    "version": 3
   },
   "file_extension": ".py",
   "mimetype": "text/x-python",
   "name": "python",
   "nbconvert_exporter": "python",
   "pygments_lexer": "ipython3",
   "version": "3.7.1"
  }
 },
 "nbformat": 4,
 "nbformat_minor": 2
}
